{
 "cells": [
  {
   "cell_type": "code",
   "execution_count": 3,
   "id": "cb333bdf-f6ed-4ecb-aa19-66b6fd329016",
   "metadata": {},
   "outputs": [
    {
     "name": "stdout",
     "output_type": "stream",
     "text": [
      "People You May Know for User 1: [4]\n"
     ]
    }
   ],
   "source": [
    "import json\n",
    "\n",
    "def load_data(filename):\n",
    "    with open(filename, \"r\") as file:\n",
    "        return json.load(file)\n",
    "\n",
    "def find_people_you_may_know(user_id, data):\n",
    "    user_friends = {}\n",
    "    for user in data[\"users\"]:\n",
    "        user_friends[user[\"id\"]] = set(user[\"friends\"])\n",
    "    \n",
    "    if user_id not in user_friends:\n",
    "        return []\n",
    "    \n",
    "    direct_friends = user_friends[user_id]\n",
    "    suggestions = {}\n",
    "    \n",
    "    for friend in direct_friends:\n",
    "        # For all friends of friend\n",
    "        for mutual in user_friends[friend]:\n",
    "            # If mutual id is not the same user and not already a direct friend of user\n",
    "            if mutual != user_id and mutual not in direct_friends:\n",
    "                # Count mutual friends\n",
    "                suggestions[mutual] = suggestions.get(mutual, 0) + 1\n",
    "    \n",
    "    sorted_suggestions = sorted(suggestions.items(), key=lambda x: x[1], reverse=True)\n",
    "    return [user_id for user_id, _ in sorted_suggestions]\n",
    "\n",
    "# Load data\n",
    "data = load_data(\"data.json\")\n",
    "user_id = 1  # Example: Finding suggestions for Amit\n",
    "recommendations = find_people_you_may_know(user_id, data)\n",
    "print(f\"People You May Know for User {user_id}: {recommendations}\")\n",
    "\n",
    "\n",
    "\n",
    "\n"
   ]
  },
  {
   "cell_type": "code",
   "execution_count": null,
   "id": "736588b4-9598-499a-a4fb-272352762fdc",
   "metadata": {},
   "outputs": [],
   "source": []
  }
 ],
 "metadata": {
  "kernelspec": {
   "display_name": "Python 3 (ipykernel)",
   "language": "python",
   "name": "python3"
  },
  "language_info": {
   "codemirror_mode": {
    "name": "ipython",
    "version": 3
   },
   "file_extension": ".py",
   "mimetype": "text/x-python",
   "name": "python",
   "nbconvert_exporter": "python",
   "pygments_lexer": "ipython3",
   "version": "3.12.6"
  }
 },
 "nbformat": 4,
 "nbformat_minor": 5
}
